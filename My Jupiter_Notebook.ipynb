{
 "cells": [
  {
   "cell_type": "markdown",
   "id": "4943f56d-95db-414e-a939-6dc3565be567",
   "metadata": {},
   "source": [
    "# My Jupiyter Notebook on IBM Watson Studio"
   ]
  },
  {
   "cell_type": "markdown",
   "id": "2378bffa-dc65-43e1-8779-e9c83e9a9b1f",
   "metadata": {},
   "source": [
    "**Laurine Meier**\n",
    "\n",
    "Student\n",
    "\n"
   ]
  },
  {
   "cell_type": "markdown",
   "id": "9e2508ee-b0e0-47bc-b883-38f754c7b065",
   "metadata": {},
   "source": [
    "*I am interested in data Science because I have always been keen on Applied Mathematics and searching fro problems. I wish to apply those skills in diverse fields. I think that data Science is a key to do that.*"
   ]
  },
  {
   "cell_type": "markdown",
   "id": "c6fdf723-04ce-43fe-b2fa-96dfdec4c702",
   "metadata": {},
   "source": [
    "### My code is going to print the sum of the 20 first integers"
   ]
  },
  {
   "cell_type": "code",
   "execution_count": 1,
   "id": "054a0a87-a1c9-4848-9bad-9a8d65dc8df9",
   "metadata": {},
   "outputs": [
    {
     "name": "stdout",
     "output_type": "stream",
     "text": [
      "210\n"
     ]
    }
   ],
   "source": [
    "S=0 #the sum\n",
    "for i in range(1, 21):\n",
    "    S += i\n",
    "\n",
    "print(S)"
   ]
  },
  {
   "cell_type": "markdown",
   "id": "a722b7af-2a7a-4f82-9f58-4de192257401",
   "metadata": {},
   "source": [
    "## Bullet list\n",
    "\n",
    "<ul> Liste 1 \n",
    "    <li> number 1 </li>\n",
    "    <li> number 2 </li>\n",
    "</ul>\n",
    "\n",
    "## Table\n",
    "<table>\n",
    "    <thead>\n",
    "        <tr>\n",
    "            <th colspan=\"2\">The table header</th>\n",
    "        </tr>\n",
    "    </thead>\n",
    "    <tbody>\n",
    "        <tr>\n",
    "            <td>The table body</td>\n",
    "            <td>with two columns</td>\n",
    "        </tr>\n",
    "    </tbody>\n",
    "</table>\n",
    "\n"
   ]
  },
  {
   "cell_type": "code",
   "execution_count": null,
   "id": "804ba2aa-8196-4a96-89a7-b305f6b8de2b",
   "metadata": {},
   "outputs": [],
   "source": []
  }
 ],
 "metadata": {
  "kernelspec": {
   "display_name": "Python",
   "language": "python",
   "name": "conda-env-python-py"
  },
  "language_info": {
   "codemirror_mode": {
    "name": "ipython",
    "version": 3
   },
   "file_extension": ".py",
   "mimetype": "text/x-python",
   "name": "python",
   "nbconvert_exporter": "python",
   "pygments_lexer": "ipython3",
   "version": "3.7.12"
  }
 },
 "nbformat": 4,
 "nbformat_minor": 5
}
